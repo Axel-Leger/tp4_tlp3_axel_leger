{
 "cells": [
  {
   "cell_type": "markdown",
   "id": "3e4771e8",
   "metadata": {},
   "source": [
    "# Trabajo Practico n4 - Introduccion a numpy.\n",
    "## Criterios de evaluación.\n",
    "\n",
    "* Se deben utilizar nombres de variables descriptivos y claros (Utilizar la nomeclatura correspondiente para los nombres de variables).\n",
    "* Comentarios claros y concisos que expliquen el propósito de cada sección del código.\n",
    "* Utilizar mensajes de commit **descriptivos**. (Puedes utilizar la extension CONVENTIONAL COMMIT de VS-CODE). \n",
    "* Entrega en tiempo y forma.\n",
    "* Todo el código desarrollado debe ser subido a un repositorio en GitHub (el nombre del repositorio de seguir la siguiente estructura: tp4_tlp3_nombre_apellido).\n",
    "* Para resolver las actividades se debe insertar casillas de codigo entre cada actividad del cuaderno de Jupyter\n",
    "\n",
    "### ¡Importante!\n",
    "**El incumplimiento de los criterios de evaluación restará puntos en la nota final del práctico!**"
   ]
  },
  {
   "cell_type": "markdown",
   "id": "c5ba7292",
   "metadata": {},
   "source": [
    "**Actividad 1:**: Crea un array de NumPy que contenga los números del 0 al 9. (Debes utilizar un metodo de numpy para su creacion.)"
   ]
  },
  {
   "cell_type": "code",
   "execution_count": null,
   "id": "75029034",
   "metadata": {},
   "outputs": [
    {
     "name": "stdout",
     "output_type": "stream",
     "text": [
      "Array del 0 al 9: [0 1 2 3 4 5 6 7 8 9]\n"
     ]
    }
   ],
   "source": [
    "import numpy as np\n",
    "from random import randint\n",
    "\n",
    "#todo: \n",
    "# crear un array y le ezpecificamos que sea hasta el 9\n",
    "array_numeros = np.arange(10)\n",
    "print(\"Array del 0 al 9:\", array_numeros)"
   ]
  },
  {
   "cell_type": "markdown",
   "id": "cb894927",
   "metadata": {},
   "source": [
    "**Actividad 2:** Crea un array de 5 ceros, y luego cambia el tercer elemento (índice 2) para que sea 5. (Debes utilizar un metodo de numpy para su creacion.)"
   ]
  },
  {
   "cell_type": "code",
   "execution_count": null,
   "id": "b9cd04a0",
   "metadata": {},
   "outputs": [
    {
     "name": "stdout",
     "output_type": "stream",
     "text": [
      "Array: [0. 0. 5. 0. 0.]\n"
     ]
    }
   ],
   "source": [
    "#todo:\n",
    "# crear un array de ceros y le especidicamos cuantas columnas y filas queremos\n",
    "array_ceros = np.zeros(5)\n",
    "\n",
    "# decimos que el array de ceros en el indece 2 va ser igual a 5 \n",
    "array_ceros[2] = 5\n",
    "\n",
    "print(\"Array:\", array_ceros)"
   ]
  },
  {
   "cell_type": "markdown",
   "id": "000352a3",
   "metadata": {},
   "source": [
    "**Actividad 3:** Genera una matriz 3x3 de números aleatorios entre 0 y 1."
   ]
  },
  {
   "cell_type": "code",
   "execution_count": null,
   "id": "e74354c9",
   "metadata": {},
   "outputs": [
    {
     "name": "stdout",
     "output_type": "stream",
     "text": [
      "Matriz:\n",
      " [[0.57136076 0.75115066 0.92472883]\n",
      " [0.90693707 0.63465769 0.60805448]\n",
      " [0.19303972 0.43862389 0.83162308]]\n"
     ]
    }
   ],
   "source": [
    "#todo:\n",
    "# esto hace que haga un array de numeros random del 0 al 1 y le especificamos cuantas columnos y filas va tener\n",
    "matriz_aleatoria = np.random.rand(3, 3)\n",
    "print(\"Matriz:\\n\", matriz_aleatoria)"
   ]
  },
  {
   "cell_type": "markdown",
   "id": "6611aaf8",
   "metadata": {},
   "source": [
    "**Actividad 4:** Dado el siguiente array `arr = np.array([10, 20, 30, 40, 50])`\n",
    "1. Suma 5 a cada elemento.\n",
    "2. Multiplica todo por un numero aleatorio (utiliza el modulo random para generarlo.)"
   ]
  },
  {
   "cell_type": "code",
   "execution_count": null,
   "id": "ed416e11",
   "metadata": {},
   "outputs": [
    {
     "name": "stdout",
     "output_type": "stream",
     "text": [
      "Array original: [10 20 30 40 50]\n",
      "Array +5: [15 25 35 45 55]\n",
      "Array multiplicado por 4: [ 40  80 120 160 200]\n",
      "Array que se sumo por 4 [ 60 100 140 180 220]\n"
     ]
    }
   ],
   "source": [
    "#todo:\n",
    "arr = np.array([10, 20, 30, 40, 50])\n",
    "\n",
    "# sumamos cada indece el 5\n",
    "arr_sumado = arr + 5\n",
    "# genera  un numero aleatorio entre el 2 y el 10\n",
    "numero_aleatorio = randint(2,10)\n",
    "\n",
    "# sumamos el array que sumaos con 5 por el numero aleatorio\n",
    "arr_sumado_multiplicado = arr_sumado * numero_aleatorio\n",
    "# summos el array normal por el nuemro aleatorio\n",
    "arr_multiplicado = arr * numero_aleatorio\n",
    "\n",
    "print(\"Array original:\", arr)\n",
    "print(\"Array +5:\", arr_sumado)\n",
    "\n",
    "print(f\"Array multiplicado por {numero_aleatorio}:\", arr_multiplicado)\n",
    "print(f\"Array que se sumo por {numero_aleatorio}\", arr_sumado_multiplicado )"
   ]
  },
  {
   "cell_type": "markdown",
   "id": "fbd05c4d",
   "metadata": {},
   "source": [
    "**Actividad 5:** Crea una matriz identidad de tamaño 4x4 (unos en la diagonal principal y ceros en el resto)."
   ]
  },
  {
   "cell_type": "code",
   "execution_count": null,
   "id": "6811c19f",
   "metadata": {},
   "outputs": [
    {
     "name": "stdout",
     "output_type": "stream",
     "text": [
      "Matriz identidad:\n",
      " [[1. 0. 0. 0.]\n",
      " [0. 1. 0. 0.]\n",
      " [0. 0. 1. 0.]\n",
      " [0. 0. 0. 1.]]\n"
     ]
    }
   ],
   "source": [
    "#todo:\n",
    "# el np.eye gener un array identidad y le especificamos de cuantas filas y columnas va ser con un solo numero\n",
    "matriz_identidad = np.eye(4)\n",
    "print(\"Matriz identidad:\\n\", matriz_identidad)"
   ]
  },
  {
   "cell_type": "markdown",
   "id": "3ec18459",
   "metadata": {},
   "source": [
    "**Actividad 6:** Crea un array que comience en 0 hasta el 20, pero que solo tenga numeros pares yu luego realiza las 4 operaciones basicas. (suma, resta, multiplicacion, division)."
   ]
  },
  {
   "cell_type": "code",
   "execution_count": null,
   "id": "f0c02872",
   "metadata": {},
   "outputs": [
    {
     "name": "stdout",
     "output_type": "stream",
     "text": [
      "Array original: [ 0  2  4  6  8 10 12 14 16 18 20]\n",
      "Suma:  [ 2  4  6  8 10 12 14 16 18 20 22]\n",
      "Resta: [-2  0  2  4  6  8 10 12 14 16 18]\n",
      "Multiplicacion: [ 0  4  8 12 16 20 24 28 32 36 40]\n",
      "Division:  [ 0.  1.  2.  3.  4.  5.  6.  7.  8.  9. 10.]\n"
     ]
    }
   ],
   "source": [
    "#todo: \n",
    "# un array que empieza en 0 termina en 20 y que vaya avanznado de a 2 \n",
    "arr = np.arange(0,21,2)\n",
    "print(\"Array original:\", arr)\n",
    "\n",
    "# suma cada iteracion del array \n",
    "suma = arr + 2\n",
    "\n",
    "# resta cada iteracion del array\n",
    "resta= arr - 2\n",
    "\n",
    "# multiplica cada iteracion del array\n",
    "multiplicacion = arr * 2\n",
    "\n",
    "# divide cada iteracion del array\n",
    "division = arr / 2\n",
    "\n",
    "print(\"Suma: \", suma)\n",
    "print(\"Resta:\", resta)\n",
    "print(\"Multiplicacion:\" , multiplicacion)\n",
    "print(\"Division: \", division )\n"
   ]
  }
 ],
 "metadata": {
  "kernelspec": {
   "display_name": "Python 3 (ipykernel)",
   "language": "python",
   "name": "python3"
  },
  "language_info": {
   "codemirror_mode": {
    "name": "ipython",
    "version": 3
   },
   "file_extension": ".py",
   "mimetype": "text/x-python",
   "name": "python",
   "nbconvert_exporter": "python",
   "pygments_lexer": "ipython3",
   "version": "3.13.2"
  }
 },
 "nbformat": 4,
 "nbformat_minor": 5
}
